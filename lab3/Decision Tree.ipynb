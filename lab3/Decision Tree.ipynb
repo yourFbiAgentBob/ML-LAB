{
 "cells": [
  {
   "cell_type": "code",
   "execution_count": 61,
   "id": "b712b3f0",
   "metadata": {},
   "outputs": [
    {
     "name": "stdout",
     "output_type": "stream",
     "text": [
      "     buying_price maintanence_cost number_of_doors number_of_persons lug_boot  \\\n",
      "0           vhigh            vhigh               2                 2    small   \n",
      "1           vhigh            vhigh               2                 2    small   \n",
      "2           vhigh            vhigh               2                 2    small   \n",
      "3           vhigh            vhigh               2                 2      med   \n",
      "4           vhigh            vhigh               2                 2      med   \n",
      "...           ...              ...             ...               ...      ...   \n",
      "1723          low              low           5more              more      med   \n",
      "1724          low              low           5more              more      med   \n",
      "1725          low              low           5more              more      big   \n",
      "1726          low              low           5more              more      big   \n",
      "1727          low              low           5more              more      big   \n",
      "\n",
      "     safety decision  \n",
      "0       low    unacc  \n",
      "1       med    unacc  \n",
      "2      high    unacc  \n",
      "3       low    unacc  \n",
      "4       med    unacc  \n",
      "...     ...      ...  \n",
      "1723    med     good  \n",
      "1724   high    vgood  \n",
      "1725    low    unacc  \n",
      "1726    med     good  \n",
      "1727   high    vgood  \n",
      "\n",
      "[1728 rows x 7 columns]\n"
     ]
    }
   ],
   "source": [
    "import pandas as pd\n",
    "from sklearn import tree\n",
    "from sklearn.model_selection import train_test_split\n",
    "from sklearn.tree import DecisionTreeClassifier\n",
    "import matplotlib.pyplot as plt\n",
    "import matplotlib.image as img\n",
    "from sklearn import preprocessing\n",
    "from sklearn.metrics import accuracy_score\n",
    "data = pd.read_csv(\"car_evaluation.csv\")\n",
    "print(data)"
   ]
  },
  {
   "cell_type": "code",
   "execution_count": null,
   "id": "5d1daa96",
   "metadata": {},
   "outputs": [],
   "source": []
  },
  {
   "cell_type": "code",
   "execution_count": 62,
   "id": "6d41efbf",
   "metadata": {},
   "outputs": [
    {
     "data": {
      "text/plain": [
       "['buying_price',\n",
       " 'maintanence_cost',\n",
       " 'number_of_doors',\n",
       " 'number_of_persons',\n",
       " 'lug_boot',\n",
       " 'safety']"
      ]
     },
     "execution_count": 62,
     "metadata": {},
     "output_type": "execute_result"
    }
   ],
   "source": [
    "list(data.columns[:-1])"
   ]
  },
  {
   "cell_type": "code",
   "execution_count": 63,
   "id": "31617b4d",
   "metadata": {},
   "outputs": [
    {
     "name": "stdout",
     "output_type": "stream",
     "text": [
      "(1123, 6)\n"
     ]
    }
   ],
   "source": [
    "X=data.drop(data.columns[-1],axis=1)\n",
    "Y=data[data.columns[-1]]\n",
    "X_train,X_test,Y_train,Y_test = train_test_split(X,Y,test_size=0.35,random_state=123)\n",
    "print(X_train.shape)"
   ]
  },
  {
   "cell_type": "code",
   "execution_count": 65,
   "id": "668697ba",
   "metadata": {},
   "outputs": [],
   "source": [
    "le = preprocessing.LabelEncoder()\n",
    "for column_name in X_train.columns:\n",
    "    if X_train[column_name].dtype == object:\n",
    "        X_train[column_name] = le.fit_transform(X_train[column_name])\n",
    "    else:\n",
    "        pass"
   ]
  },
  {
   "cell_type": "code",
   "execution_count": 66,
   "id": "3b3fb3ee",
   "metadata": {},
   "outputs": [],
   "source": [
    "dtree = DecisionTreeClassifier(criterion=\"entropy\")\n",
    "dtree = dtree.fit(X_train,Y_train)"
   ]
  },
  {
   "cell_type": "code",
   "execution_count": 68,
   "id": "3092caf2",
   "metadata": {},
   "outputs": [],
   "source": [
    "le = preprocessing.LabelEncoder()\n",
    "for column_name in X_test.columns:\n",
    "    if X_test[column_name].dtype == object:\n",
    "        X_test[column_name] = le.fit_transform(X_test[column_name])\n",
    "    else:\n",
    "        pass"
   ]
  },
  {
   "cell_type": "code",
   "execution_count": 69,
   "id": "f65cb224",
   "metadata": {},
   "outputs": [],
   "source": [
    "y_pred = dtree.predict(X_test)"
   ]
  },
  {
   "cell_type": "code",
   "execution_count": 70,
   "id": "651bcf7d",
   "metadata": {},
   "outputs": [
    {
     "name": "stdout",
     "output_type": "stream",
     "text": [
      "['vgood' 'unacc' 'unacc' 'acc' 'unacc' 'unacc' 'unacc' 'unacc' 'vgood'\n",
      " 'unacc' 'acc' 'good' 'unacc' 'unacc' 'unacc' 'unacc' 'unacc' 'acc'\n",
      " 'unacc' 'unacc' 'vgood' 'acc' 'acc' 'unacc' 'acc' 'unacc' 'unacc' 'unacc'\n",
      " 'unacc' 'unacc' 'unacc' 'unacc' 'vgood' 'unacc' 'unacc' 'vgood' 'acc'\n",
      " 'unacc' 'unacc' 'unacc' 'unacc' 'unacc' 'unacc' 'unacc' 'unacc' 'unacc'\n",
      " 'unacc' 'unacc' 'unacc' 'unacc' 'unacc' 'unacc' 'vgood' 'acc' 'acc' 'acc'\n",
      " 'acc' 'unacc' 'unacc' 'unacc' 'unacc' 'acc' 'unacc' 'unacc' 'unacc'\n",
      " 'unacc' 'unacc' 'vgood' 'unacc' 'unacc' 'acc' 'unacc' 'unacc' 'unacc'\n",
      " 'acc' 'unacc' 'unacc' 'unacc' 'good' 'acc' 'unacc' 'vgood' 'acc' 'acc'\n",
      " 'unacc' 'unacc' 'unacc' 'unacc' 'acc' 'unacc' 'unacc' 'unacc' 'acc'\n",
      " 'unacc' 'unacc' 'unacc' 'unacc' 'good' 'unacc' 'acc' 'unacc' 'unacc'\n",
      " 'unacc' 'acc' 'unacc' 'unacc' 'unacc' 'acc' 'unacc' 'unacc' 'unacc'\n",
      " 'unacc' 'unacc' 'acc' 'unacc' 'unacc' 'unacc' 'unacc' 'vgood' 'unacc'\n",
      " 'acc' 'unacc' 'acc' 'unacc' 'unacc' 'unacc' 'unacc' 'unacc' 'acc' 'unacc'\n",
      " 'unacc' 'acc' 'acc' 'acc' 'unacc' 'vgood' 'unacc' 'unacc' 'unacc' 'acc'\n",
      " 'unacc' 'unacc' 'unacc' 'acc' 'good' 'unacc' 'vgood' 'vgood' 'unacc'\n",
      " 'good' 'unacc' 'unacc' 'unacc' 'unacc' 'acc' 'acc' 'acc' 'vgood' 'unacc'\n",
      " 'unacc' 'unacc' 'unacc' 'unacc' 'acc' 'unacc' 'acc' 'acc' 'unacc' 'unacc'\n",
      " 'unacc' 'acc' 'unacc' 'acc' 'unacc' 'acc' 'unacc' 'unacc' 'unacc' 'acc'\n",
      " 'unacc' 'unacc' 'acc' 'unacc' 'unacc' 'unacc' 'unacc' 'unacc' 'unacc'\n",
      " 'good' 'acc' 'unacc' 'acc' 'unacc' 'unacc' 'unacc' 'unacc' 'unacc'\n",
      " 'unacc' 'unacc' 'unacc' 'acc' 'unacc' 'unacc' 'acc' 'unacc' 'unacc' 'acc'\n",
      " 'unacc' 'unacc' 'unacc' 'unacc' 'acc' 'acc' 'acc' 'unacc' 'unacc' 'unacc'\n",
      " 'unacc' 'good' 'vgood' 'acc' 'unacc' 'acc' 'unacc' 'acc' 'unacc' 'unacc'\n",
      " 'unacc' 'acc' 'acc' 'unacc' 'unacc' 'unacc' 'unacc' 'good' 'good' 'unacc'\n",
      " 'unacc' 'unacc' 'unacc' 'unacc' 'unacc' 'unacc' 'acc' 'unacc' 'unacc'\n",
      " 'acc' 'unacc' 'unacc' 'unacc' 'unacc' 'unacc' 'good' 'unacc' 'acc' 'acc'\n",
      " 'unacc' 'unacc' 'unacc' 'unacc' 'unacc' 'acc' 'unacc' 'unacc' 'acc'\n",
      " 'unacc' 'acc' 'acc' 'unacc' 'acc' 'acc' 'unacc' 'unacc' 'unacc' 'unacc'\n",
      " 'vgood' 'acc' 'acc' 'unacc' 'unacc' 'unacc' 'unacc' 'unacc' 'acc' 'unacc'\n",
      " 'unacc' 'unacc' 'unacc' 'unacc' 'unacc' 'unacc' 'unacc' 'unacc' 'acc'\n",
      " 'unacc' 'unacc' 'unacc' 'acc' 'unacc' 'vgood' 'acc' 'acc' 'acc' 'unacc'\n",
      " 'unacc' 'unacc' 'unacc' 'unacc' 'acc' 'acc' 'unacc' 'acc' 'acc' 'unacc'\n",
      " 'acc' 'unacc' 'unacc' 'unacc' 'unacc' 'unacc' 'unacc' 'acc' 'unacc'\n",
      " 'unacc' 'unacc' 'good' 'unacc' 'acc' 'acc' 'acc' 'unacc' 'unacc' 'unacc'\n",
      " 'unacc' 'unacc' 'acc' 'unacc' 'acc' 'acc' 'unacc' 'unacc' 'unacc' 'unacc'\n",
      " 'acc' 'good' 'unacc' 'unacc' 'unacc' 'unacc' 'unacc' 'unacc' 'unacc'\n",
      " 'acc' 'unacc' 'acc' 'acc' 'acc' 'acc' 'unacc' 'unacc' 'unacc' 'unacc'\n",
      " 'unacc' 'acc' 'unacc' 'unacc' 'unacc' 'unacc' 'acc' 'unacc' 'vgood' 'acc'\n",
      " 'unacc' 'unacc' 'unacc' 'good' 'acc' 'unacc' 'unacc' 'good' 'unacc'\n",
      " 'unacc' 'unacc' 'unacc' 'acc' 'vgood' 'unacc' 'acc' 'unacc' 'unacc' 'acc'\n",
      " 'unacc' 'unacc' 'unacc' 'unacc' 'unacc' 'unacc' 'unacc' 'acc' 'vgood'\n",
      " 'unacc' 'unacc' 'unacc' 'unacc' 'acc' 'unacc' 'unacc' 'unacc' 'good'\n",
      " 'acc' 'unacc' 'unacc' 'unacc' 'acc' 'acc' 'unacc' 'unacc' 'good' 'unacc'\n",
      " 'unacc' 'unacc' 'unacc' 'acc' 'unacc' 'acc' 'unacc' 'unacc' 'unacc'\n",
      " 'unacc' 'unacc' 'unacc' 'vgood' 'unacc' 'unacc' 'unacc' 'unacc' 'unacc'\n",
      " 'unacc' 'unacc' 'unacc' 'vgood' 'unacc' 'unacc' 'vgood' 'unacc' 'unacc'\n",
      " 'unacc' 'unacc' 'unacc' 'unacc' 'unacc' 'acc' 'unacc' 'unacc' 'unacc'\n",
      " 'unacc' 'unacc' 'unacc' 'unacc' 'unacc' 'acc' 'acc' 'acc' 'unacc' 'acc'\n",
      " 'unacc' 'unacc' 'unacc' 'unacc' 'unacc' 'acc' 'unacc' 'unacc' 'unacc'\n",
      " 'unacc' 'acc' 'unacc' 'unacc' 'unacc' 'unacc' 'unacc' 'unacc' 'unacc'\n",
      " 'unacc' 'unacc' 'unacc' 'unacc' 'unacc' 'unacc' 'unacc' 'unacc' 'unacc'\n",
      " 'unacc' 'good' 'unacc' 'good' 'unacc' 'acc' 'unacc' 'unacc' 'acc' 'vgood'\n",
      " 'acc' 'acc' 'acc' 'unacc' 'unacc' 'unacc' 'unacc' 'unacc' 'unacc' 'acc'\n",
      " 'unacc' 'unacc' 'unacc' 'unacc' 'unacc' 'acc' 'unacc' 'acc' 'unacc'\n",
      " 'unacc' 'acc' 'acc' 'unacc' 'unacc' 'unacc' 'unacc' 'vgood' 'unacc'\n",
      " 'unacc' 'acc' 'unacc' 'acc' 'unacc' 'acc' 'unacc' 'vgood' 'unacc' 'unacc'\n",
      " 'acc' 'vgood' 'acc' 'unacc' 'unacc' 'vgood' 'unacc' 'unacc' 'unacc'\n",
      " 'unacc' 'acc' 'unacc' 'unacc' 'vgood' 'good' 'vgood' 'unacc' 'acc' 'good'\n",
      " 'unacc' 'acc' 'acc' 'acc' 'unacc' 'unacc' 'unacc' 'unacc' 'unacc' 'unacc'\n",
      " 'unacc' 'acc' 'unacc' 'unacc' 'unacc' 'unacc' 'unacc' 'acc' 'unacc' 'acc'\n",
      " 'unacc' 'unacc' 'acc' 'unacc' 'unacc' 'acc' 'unacc' 'unacc' 'unacc'\n",
      " 'unacc' 'unacc' 'acc' 'unacc' 'acc' 'unacc' 'unacc' 'unacc' 'unacc'\n",
      " 'unacc' 'unacc' 'unacc' 'acc' 'unacc' 'unacc' 'unacc' 'unacc']\n"
     ]
    }
   ],
   "source": [
    "print(y_pred)"
   ]
  },
  {
   "cell_type": "code",
   "execution_count": 71,
   "id": "e868d96e",
   "metadata": {},
   "outputs": [
    {
     "name": "stdout",
     "output_type": "stream",
     "text": [
      "Accuracy :  0.9735537190082645\n"
     ]
    }
   ],
   "source": [
    "print(\"Accuracy : \",accuracy_score(Y_test,y_pred))"
   ]
  }
 ],
 "metadata": {
  "kernelspec": {
   "display_name": "Python 3 (ipykernel)",
   "language": "python",
   "name": "python3"
  },
  "language_info": {
   "codemirror_mode": {
    "name": "ipython",
    "version": 3
   },
   "file_extension": ".py",
   "mimetype": "text/x-python",
   "name": "python",
   "nbconvert_exporter": "python",
   "pygments_lexer": "ipython3",
   "version": "3.9.7"
  }
 },
 "nbformat": 4,
 "nbformat_minor": 5
}
