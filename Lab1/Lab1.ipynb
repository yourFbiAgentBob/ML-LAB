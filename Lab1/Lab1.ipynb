#Reading from csv

import pandas as pd
import numpy as np
data = pd.read_csv("C:/Users/BMSCE/Desktop/ML/Lab1/data.csv")
print(data,"\n")
d = np.array(data)[:,:-1]
print("\n The attributes are: ",d)
target = np.array(data)[:,-1]
def train(c,t):
    for i, val in enumerate(t):
        if val == "Yes":
            specific_hypothesis = c[i].copy()
            break
    for i, val in enumerate(c):
        if t[i] == "Yes":
            for x in range(len(specific_hypothesis)):
                if val[x] != specific_hypothesis[x]:
                    specific_hypothesis[x] = '?'
                else:
                    pass           
    return specific_hypothesis
print("\n The final hypothesis is:",train(d,target))

      Time Weather Temperature Company Humidity    Wind Goes
0  Morning   Sunny        Warm     Yes     Mild  Strong  Yes
1  Evening   Rainy        Cold      No     Mild  Normal   No
2  Morning   Sunny    Moderate     Yes   Normal  Normal  Yes
3  Evening   Sunny        Cold     Yes     High  Strong  Yes 


 The attributes are:  [['Morning' 'Sunny' 'Warm' 'Yes' 'Mild' 'Strong']
 ['Evening' 'Rainy' 'Cold' 'No' 'Mild' 'Normal']
 ['Morning' 'Sunny' 'Moderate' 'Yes' 'Normal' 'Normal']
 ['Evening' 'Sunny' 'Cold' 'Yes' 'High' 'Strong']]

 The final hypothesis is: ['?' 'Sunny' '?' 'Yes' '?' '?']

import pandas as pd
import numpy as np
data =  [['Morning','Sunny','Warm','Yes','Mild','Strong','Yes'],
 ['Evening','Rainy','Cold','No','Mild','Normal','No'],
 ['Morning','Sunny','Moderate','Yes','Normal','Normal','Yes'],
 ['Evening','Sunny','Cold','Yes','High','Strong','Yes']]
print(data,"\n")
d = np.array(data)[:,:-1]
print("\n The attributes are: ",d)
target = np.array(data)[:,-1]
print("\n The target is: ",target)
def train(c,t):
    for i, val in enumerate(t):
        if val == "Yes":
            specific_hypothesis = c[i].copy()
            break
             
    for i, val in enumerate(c):
        if t[i] == "Yes":
            for x in range(len(specific_hypothesis)):
                if val[x] != specific_hypothesis[x]:
                    specific_hypothesis[x] = '?'
                else:
                    pass
                 
    return specific_hypothesis
print("\n The final hypothesis is:",train(d,target))

[['Morning', 'Sunny', 'Warm', 'Yes', 'Mild', 'Strong', 'Yes'], ['Evening', 'Rainy', 'Cold', 'No', 'Mild', 'Normal', 'No'], ['Morning', 'Sunny', 'Moderate', 'Yes', 'Normal', 'Normal', 'Yes'], ['Evening', 'Sunny', 'Cold', 'Yes', 'High', 'Strong', 'Yes']] 


 The attributes are:  [['Morning' 'Sunny' 'Warm' 'Yes' 'Mild' 'Strong']
 ['Evening' 'Rainy' 'Cold' 'No' 'Mild' 'Normal']
 ['Morning' 'Sunny' 'Moderate' 'Yes' 'Normal' 'Normal']
 ['Evening' 'Sunny' 'Cold' 'Yes' 'High' 'Strong']]

 The target is:  ['Yes' 'No' 'Yes' 'Yes']

 The final hypothesis is: ['?' 'Sunny' '?' 'Yes' '?' '?']

