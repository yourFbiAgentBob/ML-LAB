import numpy as np
import pandas as pd
data = pd.read_csv("data.csv")
concepts = np.array(data.iloc[:,0:-1])
target = np.array(data.iloc[:,-1])
print(target)
print(concepts)
def learn(concepts, target):
    for i,val in enumerate(target) :
        if val == "yes" :
            specific_h = concepts[i].copy()
            idx=i
            break
    print("Initialization of specific_h and general_h")
    print(f"S{idx+1} : ",specific_h)
    general_h = [["?" for i in range(len(specific_h))] for i in range(len(specific_h))]
    print("general_h: ",general_h)
    print("concepts: ",concepts)
    for i, h in enumerate(concepts):
        if target[i] == "yes":
            for x in range(len(specific_h)):
                if h[x] != specific_h[x]:
                    specific_h[x] = '?'
                    general_h[x][x] = '?'
        if target[i] == "no":
            for x in range(len(specific_h)):
                if h[x] != specific_h[x]:
                    general_h[x][x] = specific_h[x]
                else:
                    general_h[x][x] = '?'
    print(f"S{i+1} : ")
    print(specific_h,"\n")
    print(f"G{i+1} : ")
    print(general_h)
    indices = [i for i, val in enumerate(general_h) if val == ['?', '?', '?', '?', '?', '?']]
    print("\nIndices",indices)
    for i in indices:
        general_h.remove(['?', '?', '?', '?', '?', '?'])
    return specific_h, general_h
s_final,g_final = learn(concepts, target)
print("\nFinal S:", s_final, sep="\n")
print("Final G:", g_final, sep="\n")
