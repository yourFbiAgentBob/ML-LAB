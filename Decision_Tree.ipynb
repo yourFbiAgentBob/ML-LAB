import pandas as pd
from sklearn import tree
from sklearn.model_selection import train_test_split
from sklearn.tree import DecisionTreeClassifier
import matplotlib.pyplot as plt
import matplotlib.image as img
from sklearn import preprocessing
from sklearn.metrics import accuracy_score
data = pd.read_csv("car_evaluation.csv")
print(data)
